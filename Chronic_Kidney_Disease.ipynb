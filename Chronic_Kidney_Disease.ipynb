{
 "cells": [
  {
   "cell_type": "code",
   "execution_count": 32,
   "id": "7df53bab-8c1e-4b13-b992-c5ccfed3cce5",
   "metadata": {},
   "outputs": [],
   "source": [
    "import warnings\n",
    "warnings.filterwarnings(\"ignore\")\n",
    "import pandas as pd\n",
    "import numpy as np\n",
    "import matplotlib.pyplot as plt\n",
    "import matplotlib as mpl\n",
    "from sklearn.model_selection import KFold\n",
    "from sklearn import svm\n",
    "from sklearn.metrics import precision_score, recall_score\n",
    "import seaborn as sns"
   ]
  },
  {
   "cell_type": "code",
   "execution_count": 11,
   "id": "65dc5d23-3634-4bde-bc0f-00441086d214",
   "metadata": {},
   "outputs": [],
   "source": [
    "ckd = pd.read_csv('ChronicKidneyDisease.csv')"
   ]
  },
  {
   "cell_type": "code",
   "execution_count": 12,
   "id": "f0665cfd-efdf-49d5-9153-1333e7f7c341",
   "metadata": {
    "scrolled": true
   },
   "outputs": [
    {
     "data": {
      "text/html": [
       "<div>\n",
       "<style scoped>\n",
       "    .dataframe tbody tr th:only-of-type {\n",
       "        vertical-align: middle;\n",
       "    }\n",
       "\n",
       "    .dataframe tbody tr th {\n",
       "        vertical-align: top;\n",
       "    }\n",
       "\n",
       "    .dataframe thead th {\n",
       "        text-align: right;\n",
       "    }\n",
       "</style>\n",
       "<table border=\"1\" class=\"dataframe\">\n",
       "  <thead>\n",
       "    <tr style=\"text-align: right;\">\n",
       "      <th></th>\n",
       "      <th>id</th>\n",
       "      <th>age</th>\n",
       "      <th>bp</th>\n",
       "      <th>sg</th>\n",
       "      <th>al</th>\n",
       "      <th>su</th>\n",
       "      <th>rbc</th>\n",
       "      <th>pc</th>\n",
       "      <th>pcc</th>\n",
       "      <th>ba</th>\n",
       "      <th>...</th>\n",
       "      <th>pcv</th>\n",
       "      <th>wc</th>\n",
       "      <th>rc</th>\n",
       "      <th>htn</th>\n",
       "      <th>dm</th>\n",
       "      <th>cad</th>\n",
       "      <th>appet</th>\n",
       "      <th>pe</th>\n",
       "      <th>ane</th>\n",
       "      <th>classification</th>\n",
       "    </tr>\n",
       "  </thead>\n",
       "  <tbody>\n",
       "    <tr>\n",
       "      <th>0</th>\n",
       "      <td>0</td>\n",
       "      <td>48.0</td>\n",
       "      <td>80.0</td>\n",
       "      <td>1.020</td>\n",
       "      <td>1.0</td>\n",
       "      <td>0.0</td>\n",
       "      <td>NaN</td>\n",
       "      <td>normal</td>\n",
       "      <td>notpresent</td>\n",
       "      <td>notpresent</td>\n",
       "      <td>...</td>\n",
       "      <td>44</td>\n",
       "      <td>7800</td>\n",
       "      <td>5.2</td>\n",
       "      <td>yes</td>\n",
       "      <td>yes</td>\n",
       "      <td>no</td>\n",
       "      <td>good</td>\n",
       "      <td>no</td>\n",
       "      <td>no</td>\n",
       "      <td>ckd</td>\n",
       "    </tr>\n",
       "    <tr>\n",
       "      <th>1</th>\n",
       "      <td>1</td>\n",
       "      <td>7.0</td>\n",
       "      <td>50.0</td>\n",
       "      <td>1.020</td>\n",
       "      <td>4.0</td>\n",
       "      <td>0.0</td>\n",
       "      <td>NaN</td>\n",
       "      <td>normal</td>\n",
       "      <td>notpresent</td>\n",
       "      <td>notpresent</td>\n",
       "      <td>...</td>\n",
       "      <td>38</td>\n",
       "      <td>6000</td>\n",
       "      <td>NaN</td>\n",
       "      <td>no</td>\n",
       "      <td>no</td>\n",
       "      <td>no</td>\n",
       "      <td>good</td>\n",
       "      <td>no</td>\n",
       "      <td>no</td>\n",
       "      <td>ckd</td>\n",
       "    </tr>\n",
       "    <tr>\n",
       "      <th>2</th>\n",
       "      <td>2</td>\n",
       "      <td>62.0</td>\n",
       "      <td>80.0</td>\n",
       "      <td>1.010</td>\n",
       "      <td>2.0</td>\n",
       "      <td>3.0</td>\n",
       "      <td>normal</td>\n",
       "      <td>normal</td>\n",
       "      <td>notpresent</td>\n",
       "      <td>notpresent</td>\n",
       "      <td>...</td>\n",
       "      <td>31</td>\n",
       "      <td>7500</td>\n",
       "      <td>NaN</td>\n",
       "      <td>no</td>\n",
       "      <td>yes</td>\n",
       "      <td>no</td>\n",
       "      <td>poor</td>\n",
       "      <td>no</td>\n",
       "      <td>yes</td>\n",
       "      <td>ckd</td>\n",
       "    </tr>\n",
       "    <tr>\n",
       "      <th>3</th>\n",
       "      <td>3</td>\n",
       "      <td>48.0</td>\n",
       "      <td>70.0</td>\n",
       "      <td>1.005</td>\n",
       "      <td>4.0</td>\n",
       "      <td>0.0</td>\n",
       "      <td>normal</td>\n",
       "      <td>abnormal</td>\n",
       "      <td>present</td>\n",
       "      <td>notpresent</td>\n",
       "      <td>...</td>\n",
       "      <td>32</td>\n",
       "      <td>6700</td>\n",
       "      <td>3.9</td>\n",
       "      <td>yes</td>\n",
       "      <td>no</td>\n",
       "      <td>no</td>\n",
       "      <td>poor</td>\n",
       "      <td>yes</td>\n",
       "      <td>yes</td>\n",
       "      <td>ckd</td>\n",
       "    </tr>\n",
       "    <tr>\n",
       "      <th>4</th>\n",
       "      <td>4</td>\n",
       "      <td>51.0</td>\n",
       "      <td>80.0</td>\n",
       "      <td>1.010</td>\n",
       "      <td>2.0</td>\n",
       "      <td>0.0</td>\n",
       "      <td>normal</td>\n",
       "      <td>normal</td>\n",
       "      <td>notpresent</td>\n",
       "      <td>notpresent</td>\n",
       "      <td>...</td>\n",
       "      <td>35</td>\n",
       "      <td>7300</td>\n",
       "      <td>4.6</td>\n",
       "      <td>no</td>\n",
       "      <td>no</td>\n",
       "      <td>no</td>\n",
       "      <td>good</td>\n",
       "      <td>no</td>\n",
       "      <td>no</td>\n",
       "      <td>ckd</td>\n",
       "    </tr>\n",
       "  </tbody>\n",
       "</table>\n",
       "<p>5 rows × 26 columns</p>\n",
       "</div>"
      ],
      "text/plain": [
       "   id   age    bp     sg   al   su     rbc        pc         pcc          ba  \\\n",
       "0   0  48.0  80.0  1.020  1.0  0.0     NaN    normal  notpresent  notpresent   \n",
       "1   1   7.0  50.0  1.020  4.0  0.0     NaN    normal  notpresent  notpresent   \n",
       "2   2  62.0  80.0  1.010  2.0  3.0  normal    normal  notpresent  notpresent   \n",
       "3   3  48.0  70.0  1.005  4.0  0.0  normal  abnormal     present  notpresent   \n",
       "4   4  51.0  80.0  1.010  2.0  0.0  normal    normal  notpresent  notpresent   \n",
       "\n",
       "   ...  pcv    wc   rc  htn   dm  cad appet   pe  ane classification  \n",
       "0  ...   44  7800  5.2  yes  yes   no  good   no   no            ckd  \n",
       "1  ...   38  6000  NaN   no   no   no  good   no   no            ckd  \n",
       "2  ...   31  7500  NaN   no  yes   no  poor   no  yes            ckd  \n",
       "3  ...   32  6700  3.9  yes   no   no  poor  yes  yes            ckd  \n",
       "4  ...   35  7300  4.6   no   no   no  good   no   no            ckd  \n",
       "\n",
       "[5 rows x 26 columns]"
      ]
     },
     "execution_count": 12,
     "metadata": {},
     "output_type": "execute_result"
    }
   ],
   "source": [
    "ckd.head()"
   ]
  },
  {
   "cell_type": "code",
   "execution_count": 13,
   "id": "5c0f9226-a141-46bc-88ec-01818a1dff9d",
   "metadata": {},
   "outputs": [],
   "source": [
    "ckd.drop([\"id\"], axis=1, inplace=True)"
   ]
  },
  {
   "cell_type": "code",
   "execution_count": 14,
   "id": "3f65829a-39d6-4699-afda-a3cd405c97e7",
   "metadata": {},
   "outputs": [
    {
     "data": {
      "text/html": [
       "<div>\n",
       "<style scoped>\n",
       "    .dataframe tbody tr th:only-of-type {\n",
       "        vertical-align: middle;\n",
       "    }\n",
       "\n",
       "    .dataframe tbody tr th {\n",
       "        vertical-align: top;\n",
       "    }\n",
       "\n",
       "    .dataframe thead th {\n",
       "        text-align: right;\n",
       "    }\n",
       "</style>\n",
       "<table border=\"1\" class=\"dataframe\">\n",
       "  <thead>\n",
       "    <tr style=\"text-align: right;\">\n",
       "      <th></th>\n",
       "      <th>age</th>\n",
       "      <th>bp</th>\n",
       "      <th>sg</th>\n",
       "      <th>al</th>\n",
       "      <th>su</th>\n",
       "      <th>bgr</th>\n",
       "      <th>bu</th>\n",
       "      <th>sc</th>\n",
       "      <th>sod</th>\n",
       "      <th>pot</th>\n",
       "      <th>hemo</th>\n",
       "    </tr>\n",
       "  </thead>\n",
       "  <tbody>\n",
       "    <tr>\n",
       "      <th>count</th>\n",
       "      <td>391.000000</td>\n",
       "      <td>388.000000</td>\n",
       "      <td>353.000000</td>\n",
       "      <td>354.000000</td>\n",
       "      <td>351.000000</td>\n",
       "      <td>356.000000</td>\n",
       "      <td>381.000000</td>\n",
       "      <td>383.000000</td>\n",
       "      <td>313.000000</td>\n",
       "      <td>312.000000</td>\n",
       "      <td>348.000000</td>\n",
       "    </tr>\n",
       "    <tr>\n",
       "      <th>mean</th>\n",
       "      <td>51.483376</td>\n",
       "      <td>76.469072</td>\n",
       "      <td>1.017408</td>\n",
       "      <td>1.016949</td>\n",
       "      <td>0.450142</td>\n",
       "      <td>148.036517</td>\n",
       "      <td>57.425722</td>\n",
       "      <td>3.072454</td>\n",
       "      <td>137.528754</td>\n",
       "      <td>4.627244</td>\n",
       "      <td>12.526437</td>\n",
       "    </tr>\n",
       "    <tr>\n",
       "      <th>std</th>\n",
       "      <td>17.169714</td>\n",
       "      <td>13.683637</td>\n",
       "      <td>0.005717</td>\n",
       "      <td>1.352679</td>\n",
       "      <td>1.099191</td>\n",
       "      <td>79.281714</td>\n",
       "      <td>50.503006</td>\n",
       "      <td>5.741126</td>\n",
       "      <td>10.408752</td>\n",
       "      <td>3.193904</td>\n",
       "      <td>2.912587</td>\n",
       "    </tr>\n",
       "    <tr>\n",
       "      <th>min</th>\n",
       "      <td>2.000000</td>\n",
       "      <td>50.000000</td>\n",
       "      <td>1.005000</td>\n",
       "      <td>0.000000</td>\n",
       "      <td>0.000000</td>\n",
       "      <td>22.000000</td>\n",
       "      <td>1.500000</td>\n",
       "      <td>0.400000</td>\n",
       "      <td>4.500000</td>\n",
       "      <td>2.500000</td>\n",
       "      <td>3.100000</td>\n",
       "    </tr>\n",
       "    <tr>\n",
       "      <th>25%</th>\n",
       "      <td>42.000000</td>\n",
       "      <td>70.000000</td>\n",
       "      <td>1.010000</td>\n",
       "      <td>0.000000</td>\n",
       "      <td>0.000000</td>\n",
       "      <td>99.000000</td>\n",
       "      <td>27.000000</td>\n",
       "      <td>0.900000</td>\n",
       "      <td>135.000000</td>\n",
       "      <td>3.800000</td>\n",
       "      <td>10.300000</td>\n",
       "    </tr>\n",
       "    <tr>\n",
       "      <th>50%</th>\n",
       "      <td>55.000000</td>\n",
       "      <td>80.000000</td>\n",
       "      <td>1.020000</td>\n",
       "      <td>0.000000</td>\n",
       "      <td>0.000000</td>\n",
       "      <td>121.000000</td>\n",
       "      <td>42.000000</td>\n",
       "      <td>1.300000</td>\n",
       "      <td>138.000000</td>\n",
       "      <td>4.400000</td>\n",
       "      <td>12.650000</td>\n",
       "    </tr>\n",
       "    <tr>\n",
       "      <th>75%</th>\n",
       "      <td>64.500000</td>\n",
       "      <td>80.000000</td>\n",
       "      <td>1.020000</td>\n",
       "      <td>2.000000</td>\n",
       "      <td>0.000000</td>\n",
       "      <td>163.000000</td>\n",
       "      <td>66.000000</td>\n",
       "      <td>2.800000</td>\n",
       "      <td>142.000000</td>\n",
       "      <td>4.900000</td>\n",
       "      <td>15.000000</td>\n",
       "    </tr>\n",
       "    <tr>\n",
       "      <th>max</th>\n",
       "      <td>90.000000</td>\n",
       "      <td>180.000000</td>\n",
       "      <td>1.025000</td>\n",
       "      <td>5.000000</td>\n",
       "      <td>5.000000</td>\n",
       "      <td>490.000000</td>\n",
       "      <td>391.000000</td>\n",
       "      <td>76.000000</td>\n",
       "      <td>163.000000</td>\n",
       "      <td>47.000000</td>\n",
       "      <td>17.800000</td>\n",
       "    </tr>\n",
       "  </tbody>\n",
       "</table>\n",
       "</div>"
      ],
      "text/plain": [
       "              age          bp          sg          al          su         bgr  \\\n",
       "count  391.000000  388.000000  353.000000  354.000000  351.000000  356.000000   \n",
       "mean    51.483376   76.469072    1.017408    1.016949    0.450142  148.036517   \n",
       "std     17.169714   13.683637    0.005717    1.352679    1.099191   79.281714   \n",
       "min      2.000000   50.000000    1.005000    0.000000    0.000000   22.000000   \n",
       "25%     42.000000   70.000000    1.010000    0.000000    0.000000   99.000000   \n",
       "50%     55.000000   80.000000    1.020000    0.000000    0.000000  121.000000   \n",
       "75%     64.500000   80.000000    1.020000    2.000000    0.000000  163.000000   \n",
       "max     90.000000  180.000000    1.025000    5.000000    5.000000  490.000000   \n",
       "\n",
       "               bu          sc         sod         pot        hemo  \n",
       "count  381.000000  383.000000  313.000000  312.000000  348.000000  \n",
       "mean    57.425722    3.072454  137.528754    4.627244   12.526437  \n",
       "std     50.503006    5.741126   10.408752    3.193904    2.912587  \n",
       "min      1.500000    0.400000    4.500000    2.500000    3.100000  \n",
       "25%     27.000000    0.900000  135.000000    3.800000   10.300000  \n",
       "50%     42.000000    1.300000  138.000000    4.400000   12.650000  \n",
       "75%     66.000000    2.800000  142.000000    4.900000   15.000000  \n",
       "max    391.000000   76.000000  163.000000   47.000000   17.800000  "
      ]
     },
     "execution_count": 14,
     "metadata": {},
     "output_type": "execute_result"
    }
   ],
   "source": [
    "ckd.describe()"
   ]
  },
  {
   "cell_type": "code",
   "execution_count": 15,
   "id": "8cc8645e-ff9a-42dc-b004-07f4a7300089",
   "metadata": {},
   "outputs": [
    {
     "name": "stdout",
     "output_type": "stream",
     "text": [
      "<class 'pandas.core.frame.DataFrame'>\n",
      "RangeIndex: 400 entries, 0 to 399\n",
      "Data columns (total 25 columns):\n",
      " #   Column          Non-Null Count  Dtype  \n",
      "---  ------          --------------  -----  \n",
      " 0   age             391 non-null    float64\n",
      " 1   bp              388 non-null    float64\n",
      " 2   sg              353 non-null    float64\n",
      " 3   al              354 non-null    float64\n",
      " 4   su              351 non-null    float64\n",
      " 5   rbc             248 non-null    object \n",
      " 6   pc              335 non-null    object \n",
      " 7   pcc             396 non-null    object \n",
      " 8   ba              396 non-null    object \n",
      " 9   bgr             356 non-null    float64\n",
      " 10  bu              381 non-null    float64\n",
      " 11  sc              383 non-null    float64\n",
      " 12  sod             313 non-null    float64\n",
      " 13  pot             312 non-null    float64\n",
      " 14  hemo            348 non-null    float64\n",
      " 15  pcv             330 non-null    object \n",
      " 16  wc              295 non-null    object \n",
      " 17  rc              270 non-null    object \n",
      " 18  htn             398 non-null    object \n",
      " 19  dm              398 non-null    object \n",
      " 20  cad             398 non-null    object \n",
      " 21  appet           399 non-null    object \n",
      " 22  pe              399 non-null    object \n",
      " 23  ane             399 non-null    object \n",
      " 24  classification  400 non-null    object \n",
      "dtypes: float64(11), object(14)\n",
      "memory usage: 78.3+ KB\n"
     ]
    }
   ],
   "source": [
    "ckd.info()"
   ]
  },
  {
   "cell_type": "markdown",
   "id": "c162fcc6-dfc6-4241-a24b-83c4955547db",
   "metadata": {},
   "source": [
    "Let's examine categorical and numerical features "
   ]
  },
  {
   "cell_type": "code",
   "execution_count": 16,
   "id": "4cbd3a6a-00ba-494f-887c-e011b042aa1d",
   "metadata": {},
   "outputs": [],
   "source": [
    "categorical_cols = [col for col in ckd.columns if ckd[col].dtype == \"object\"]"
   ]
  },
  {
   "cell_type": "code",
   "execution_count": 17,
   "id": "596814c2-8691-420c-a81d-b736f0ae2352",
   "metadata": {},
   "outputs": [
    {
     "name": "stdout",
     "output_type": "stream",
     "text": [
      "['rbc', 'pc', 'pcc', 'ba', 'pcv', 'wc', 'rc', 'htn', 'dm', 'cad', 'appet', 'pe', 'ane', 'classification']\n"
     ]
    }
   ],
   "source": [
    "print(categorical_cols)"
   ]
  },
  {
   "cell_type": "code",
   "execution_count": 18,
   "id": "66f4c666-d16f-4e77-a770-adb2d6e6ed5c",
   "metadata": {},
   "outputs": [
    {
     "data": {
      "text/plain": [
       "14"
      ]
     },
     "execution_count": 18,
     "metadata": {},
     "output_type": "execute_result"
    }
   ],
   "source": [
    "len(categorical_cols)"
   ]
  },
  {
   "cell_type": "code",
   "execution_count": 19,
   "id": "c063289e-41b7-47c2-bc3e-30cdf8180fbe",
   "metadata": {},
   "outputs": [
    {
     "data": {
      "text/plain": [
       "11"
      ]
     },
     "execution_count": 19,
     "metadata": {},
     "output_type": "execute_result"
    }
   ],
   "source": [
    "num_cols = [col for col in ckd.columns if ckd[col].dtype != \"object\"]\n",
    "len(num_cols)"
   ]
  },
  {
   "cell_type": "code",
   "execution_count": 20,
   "id": "e8f45098-beff-4cb1-87e6-4e83992fa132",
   "metadata": {},
   "outputs": [
    {
     "name": "stdout",
     "output_type": "stream",
     "text": [
      "rbc: [nan 'normal' 'abnormal']\n",
      "pc: ['normal' 'abnormal' nan]\n",
      "pcc: ['notpresent' 'present' nan]\n",
      "ba: ['notpresent' 'present' nan]\n",
      "pcv: ['44' '38' '31' '32' '35' '39' '36' '33' '29' '28' nan '16' '24' '37' '30'\n",
      " '34' '40' '45' '27' '48' '\\t?' '52' '14' '22' '18' '42' '17' '46' '23'\n",
      " '19' '25' '41' '26' '15' '21' '43' '20' '\\t43' '47' '9' '49' '50' '53'\n",
      " '51' '54']\n",
      "wc: ['7800' '6000' '7500' '6700' '7300' nan '6900' '9600' '12100' '4500'\n",
      " '12200' '11000' '3800' '11400' '5300' '9200' '6200' '8300' '8400' '10300'\n",
      " '9800' '9100' '7900' '6400' '8600' '18900' '21600' '4300' '8500' '11300'\n",
      " '7200' '7700' '14600' '6300' '\\t6200' '7100' '11800' '9400' '5500' '5800'\n",
      " '13200' '12500' '5600' '7000' '11900' '10400' '10700' '12700' '6800'\n",
      " '6500' '13600' '10200' '9000' '14900' '8200' '15200' '5000' '16300'\n",
      " '12400' '\\t8400' '10500' '4200' '4700' '10900' '8100' '9500' '2200'\n",
      " '12800' '11200' '19100' '\\t?' '12300' '16700' '2600' '26400' '8800'\n",
      " '7400' '4900' '8000' '12000' '15700' '4100' '5700' '11500' '5400' '10800'\n",
      " '9900' '5200' '5900' '9300' '9700' '5100' '6600']\n",
      "rc: ['5.2' nan '3.9' '4.6' '4.4' '5' '4.0' '3.7' '3.8' '3.4' '2.6' '2.8' '4.3'\n",
      " '3.2' '3.6' '4' '4.1' '4.9' '2.5' '4.2' '4.5' '3.1' '4.7' '3.5' '6.0'\n",
      " '5.0' '2.1' '5.6' '2.3' '2.9' '2.7' '8.0' '3.3' '3.0' '3' '2.4' '4.8'\n",
      " '\\t?' '5.4' '6.1' '6.2' '6.3' '5.1' '5.8' '5.5' '5.3' '6.4' '5.7' '5.9'\n",
      " '6.5']\n",
      "htn: ['yes' 'no' nan]\n",
      "dm: ['yes' 'no' ' yes' '\\tno' '\\tyes' nan]\n",
      "cad: ['no' 'yes' '\\tno' nan]\n",
      "appet: ['good' 'poor' nan]\n",
      "pe: ['no' 'yes' nan]\n",
      "ane: ['no' 'yes' nan]\n",
      "classification: ['ckd' 'ckd\\t' 'notckd']\n"
     ]
    }
   ],
   "source": [
    "for col in categorical_cols:\n",
    "    print(f\"{col}: {ckd[col].unique()}\")"
   ]
  },
  {
   "cell_type": "markdown",
   "id": "67823d64-f7dd-45fa-ab2e-8267925636be",
   "metadata": {},
   "source": [
    "Let's correct the typos "
   ]
  },
  {
   "cell_type": "code",
   "execution_count": 21,
   "id": "81372d57-afa7-471a-a397-27c07eb967fc",
   "metadata": {},
   "outputs": [],
   "source": [
    "ckd[\"pcv\"].replace(to_replace = {\"\\t?\":\"\", \"\\t43\":\"43\"}, inplace=True)\n",
    "ckd[\"wc\"].replace(to_replace = {\"\\t6200\":\"6200\", \"\\t8400\":\"8400\",\"\\t?\":\"\"}, inplace=True)\n",
    "ckd[\"rc\"].replace(to_replace = {\"\\t?\":\"\"}, inplace=True)\n",
    "ckd[\"dm\"].replace(to_replace = {\" yes\":\"yes\", \"\\tno\":\"no\", \"\\tyes\":\"yes\"}, inplace=True)\n",
    "ckd[\"cad\"].replace(to_replace = {\"\\tno\":\"no\"}, inplace=True)\n",
    "ckd[\"classification\"].replace(to_replace = {\"ckd\\t\":\"ckd\"}, inplace=True)"
   ]
  },
  {
   "cell_type": "markdown",
   "id": "2d42436c-f7d1-4b25-b597-7b01d02844a3",
   "metadata": {},
   "source": [
    "For now we're gonna handle the no data values by replacing them with actual np.nan, we'll later impute them "
   ]
  },
  {
   "cell_type": "code",
   "execution_count": 22,
   "id": "e615fac8-c09a-41be-a3b3-bed9a680d5c3",
   "metadata": {},
   "outputs": [],
   "source": [
    "ckd.replace('notpresent', np.nan, inplace=True)"
   ]
  },
  {
   "cell_type": "markdown",
   "id": "98ebb450-387b-4fed-a1e5-deb91739a379",
   "metadata": {},
   "source": [
    "Some columns are of the wrong type we're gonna convert them to numerical "
   ]
  },
  {
   "cell_type": "code",
   "execution_count": 23,
   "id": "b6213783-c496-4272-9097-6d0c6bfa85c0",
   "metadata": {},
   "outputs": [],
   "source": [
    "#Convert data types that are still wrong\n",
    "columns_to_convert = ['pcv', 'wc', 'rc']\n",
    "\n",
    "# Convert each column to numeric\n",
    "for col in columns_to_convert:\n",
    "    ckd[col] = pd.to_numeric(ckd[col], errors='coerce')  "
   ]
  },
  {
   "cell_type": "code",
   "execution_count": 24,
   "id": "a28b016c-02c9-4a65-9714-5b01809fa5ad",
   "metadata": {},
   "outputs": [
    {
     "data": {
      "text/plain": [
       "11"
      ]
     },
     "execution_count": 24,
     "metadata": {},
     "output_type": "execute_result"
    }
   ],
   "source": [
    "categorical_cols2 = [col for col in ckd.columns if ckd[col].dtype == \"object\"]\n",
    "len(categorical_cols2)"
   ]
  },
  {
   "cell_type": "code",
   "execution_count": 25,
   "id": "c4d85820-b24a-46ed-a8f9-87fb246d2e28",
   "metadata": {},
   "outputs": [
    {
     "name": "stdout",
     "output_type": "stream",
     "text": [
      "rbc: [nan 'normal' 'abnormal']\n",
      "pc: ['normal' 'abnormal' nan]\n",
      "pcc: [nan 'present']\n",
      "ba: [nan 'present']\n",
      "htn: ['yes' 'no' nan]\n",
      "dm: ['yes' 'no' nan]\n",
      "cad: ['no' 'yes' nan]\n",
      "appet: ['good' 'poor' nan]\n",
      "pe: ['no' 'yes' nan]\n",
      "ane: ['no' 'yes' nan]\n",
      "classification: ['ckd' 'notckd']\n"
     ]
    }
   ],
   "source": [
    "for col in categorical_cols2:\n",
    "    print(f\"{col}: {ckd[col].unique()}\")"
   ]
  },
  {
   "cell_type": "code",
   "execution_count": 26,
   "id": "ddf3714b-f212-4426-a75d-48eb9aee3525",
   "metadata": {},
   "outputs": [
    {
     "data": {
      "text/plain": [
       "14"
      ]
     },
     "execution_count": 26,
     "metadata": {},
     "output_type": "execute_result"
    }
   ],
   "source": [
    "num_cols2 = [col for col in ckd.columns if ckd[col].dtype != \"object\"]\n",
    "len(num_cols2)"
   ]
  },
  {
   "cell_type": "code",
   "execution_count": 27,
   "id": "0da1d303-e01e-4010-bcca-6cb086e1af38",
   "metadata": {},
   "outputs": [],
   "source": [
    "#Convert categorical features to corresponding data type\n",
    "for col in categorical_cols2:\n",
    "    ckd[col] = ckd[col].astype('category')"
   ]
  },
  {
   "cell_type": "markdown",
   "id": "3841c75f-f1a6-4412-a88b-12b69e3079e9",
   "metadata": {},
   "source": [
    "Box plots of numerical features "
   ]
  },
  {
   "cell_type": "code",
   "execution_count": 35,
   "id": "c18151ca-f6d8-4826-ac11-cce9ec31e20e",
   "metadata": {},
   "outputs": [
    {
     "data": {
      "image/png": "[encoded data removed]",
      "text/plain": [
       "<Figure size 2000x800 with 14 Axes>"
      ]
     },
     "metadata": {},
     "output_type": "display_data"
    }
   ],
   "source": [
    "n_rows = 2\n",
    "n_cols = 7\n",
    "\n",
    "fig, axes = plt.subplots(nrows=n_rows, ncols=n_cols, figsize=(20, 8))\n",
    "fig.suptitle('Box Plots of Numerical Features', fontsize=20)\n",
    "\n",
    "for index, column in enumerate(num_cols2):\n",
    "    i, j = divmod(index, n_cols)  # Calculate the row and column index\n",
    "    sns.boxplot(ckd[column], ax=axes[i, j])\n",
    "    axes[i, j].set_title(column)\n",
    "    \n",
    "plt.tight_layout(rect=[0, 0, 1, 0.95])  # Adjust layout to make room for the suptitle\n",
    "plt.show()"
   ]
  },
  {
   "cell_type": "markdown",
   "id": "93140f9f-5007-42c8-a12b-719ae046a3a8",
   "metadata": {},
   "source": [
    "We observe the presence of many outliers in most of the features, since these are biological measures, and I'm no medical expert, we're gonna ignore them for this classification problem."
   ]
  },
  {
   "cell_type": "markdown",
   "id": "dbdfff13-0d93-4985-9148-c3d79a858823",
   "metadata": {},
   "source": [
    "For missing numeric values, we're gonna replace them with the feature average"
   ]
  },
  {
   "cell_type": "code",
   "execution_count": 28,
   "id": "2551ef47-cad7-46d8-bea4-5e48754a8512",
   "metadata": {},
   "outputs": [],
   "source": [
    "ckd[num_cols2] = ckd[num_cols2].fillna(ckd[num_cols2].mean())"
   ]
  },
  {
   "cell_type": "markdown",
   "id": "6b1fe790-4869-45dc-bf84-aea9958c7328",
   "metadata": {},
   "source": [
    "For missing categorical values, we'll replace them with the feature most occuring value"
   ]
  },
  {
   "cell_type": "code",
   "execution_count": 156,
   "id": "d7f201d9-0d49-4318-9d1f-24cabebe6c38",
   "metadata": {},
   "outputs": [],
   "source": [
    "for col in categorical_cols2:\n",
    "    mode_value = ckd[col].mode().iloc[0]  \n",
    "    ckd[col].fillna(mode_value, inplace=True)"
   ]
  },
  {
   "cell_type": "markdown",
   "id": "41458832-259f-4248-99e1-a43bcca16304",
   "metadata": {},
   "source": [
    "We will now encode categorical features using one hot encoding"
   ]
  },
  {
   "cell_type": "code",
   "execution_count": 36,
   "id": "4af06a36-6b8b-4f29-aba5-41a1e964c0fe",
   "metadata": {},
   "outputs": [],
   "source": [
    "ckd_encoded = pd.get_dummies(ckd, columns=categorical_cols2, drop_first=True)\n",
    "ckd_encoded = ckd_encoded.astype(int)"
   ]
  },
  {
   "cell_type": "markdown",
   "id": "d427d2ce-9305-4eb4-9092-0e767ca19f43",
   "metadata": {},
   "source": [
    "Scaling our data "
   ]
  },
  {
   "cell_type": "code",
   "execution_count": 40,
   "id": "29f64638-6082-4a7c-a4ee-a83cd0ce52c5",
   "metadata": {},
   "outputs": [],
   "source": [
    "from sklearn.preprocessing import MinMaxScaler\n",
    "scaler = MinMaxScaler() \n",
    "normalized_ckd = pd.DataFrame(scaler.fit_transform(ckd_encoded), columns=ckd_encoded.columns)"
   ]
  },
  {
   "cell_type": "code",
   "execution_count": 41,
   "id": "ba4aa143-b5da-4d55-abd8-ec415d6bb931",
   "metadata": {},
   "outputs": [
    {
     "data": {
      "text/html": [
       "<div>\n",
       "<style scoped>\n",
       "    .dataframe tbody tr th:only-of-type {\n",
       "        vertical-align: middle;\n",
       "    }\n",
       "\n",
       "    .dataframe tbody tr th {\n",
       "        vertical-align: top;\n",
       "    }\n",
       "\n",
       "    .dataframe thead th {\n",
       "        text-align: right;\n",
       "    }\n",
       "</style>\n",
       "<table border=\"1\" class=\"dataframe\">\n",
       "  <thead>\n",
       "    <tr style=\"text-align: right;\">\n",
       "      <th></th>\n",
       "      <th>age</th>\n",
       "      <th>bp</th>\n",
       "      <th>sg</th>\n",
       "      <th>al</th>\n",
       "      <th>su</th>\n",
       "      <th>bgr</th>\n",
       "      <th>bu</th>\n",
       "      <th>sc</th>\n",
       "      <th>sod</th>\n",
       "      <th>pot</th>\n",
       "      <th>...</th>\n",
       "      <th>rc</th>\n",
       "      <th>rbc_normal</th>\n",
       "      <th>pc_normal</th>\n",
       "      <th>htn_yes</th>\n",
       "      <th>dm_yes</th>\n",
       "      <th>cad_yes</th>\n",
       "      <th>appet_poor</th>\n",
       "      <th>pe_yes</th>\n",
       "      <th>ane_yes</th>\n",
       "      <th>classification_notckd</th>\n",
       "    </tr>\n",
       "  </thead>\n",
       "  <tbody>\n",
       "    <tr>\n",
       "      <th>0</th>\n",
       "      <td>0.522727</td>\n",
       "      <td>0.230769</td>\n",
       "      <td>0.0</td>\n",
       "      <td>0.2</td>\n",
       "      <td>0.0</td>\n",
       "      <td>0.211538</td>\n",
       "      <td>0.089744</td>\n",
       "      <td>0.013158</td>\n",
       "      <td>0.836478</td>\n",
       "      <td>0.044444</td>\n",
       "      <td>...</td>\n",
       "      <td>0.500000</td>\n",
       "      <td>0.0</td>\n",
       "      <td>1.0</td>\n",
       "      <td>1.0</td>\n",
       "      <td>1.0</td>\n",
       "      <td>0.0</td>\n",
       "      <td>0.0</td>\n",
       "      <td>0.0</td>\n",
       "      <td>0.0</td>\n",
       "      <td>0.0</td>\n",
       "    </tr>\n",
       "    <tr>\n",
       "      <th>1</th>\n",
       "      <td>0.056818</td>\n",
       "      <td>0.000000</td>\n",
       "      <td>0.0</td>\n",
       "      <td>0.8</td>\n",
       "      <td>0.0</td>\n",
       "      <td>0.269231</td>\n",
       "      <td>0.043590</td>\n",
       "      <td>0.000000</td>\n",
       "      <td>0.836478</td>\n",
       "      <td>0.044444</td>\n",
       "      <td>...</td>\n",
       "      <td>0.333333</td>\n",
       "      <td>0.0</td>\n",
       "      <td>1.0</td>\n",
       "      <td>0.0</td>\n",
       "      <td>0.0</td>\n",
       "      <td>0.0</td>\n",
       "      <td>0.0</td>\n",
       "      <td>0.0</td>\n",
       "      <td>0.0</td>\n",
       "      <td>0.0</td>\n",
       "    </tr>\n",
       "    <tr>\n",
       "      <th>2</th>\n",
       "      <td>0.681818</td>\n",
       "      <td>0.230769</td>\n",
       "      <td>0.0</td>\n",
       "      <td>0.4</td>\n",
       "      <td>0.6</td>\n",
       "      <td>0.856838</td>\n",
       "      <td>0.133333</td>\n",
       "      <td>0.013158</td>\n",
       "      <td>0.836478</td>\n",
       "      <td>0.044444</td>\n",
       "      <td>...</td>\n",
       "      <td>0.333333</td>\n",
       "      <td>1.0</td>\n",
       "      <td>1.0</td>\n",
       "      <td>0.0</td>\n",
       "      <td>1.0</td>\n",
       "      <td>0.0</td>\n",
       "      <td>1.0</td>\n",
       "      <td>0.0</td>\n",
       "      <td>1.0</td>\n",
       "      <td>0.0</td>\n",
       "    </tr>\n",
       "  </tbody>\n",
       "</table>\n",
       "<p>3 rows × 23 columns</p>\n",
       "</div>"
      ],
      "text/plain": [
       "        age        bp   sg   al   su       bgr        bu        sc       sod  \\\n",
       "0  0.522727  0.230769  0.0  0.2  0.0  0.211538  0.089744  0.013158  0.836478   \n",
       "1  0.056818  0.000000  0.0  0.8  0.0  0.269231  0.043590  0.000000  0.836478   \n",
       "2  0.681818  0.230769  0.0  0.4  0.6  0.856838  0.133333  0.013158  0.836478   \n",
       "\n",
       "        pot  ...        rc  rbc_normal  pc_normal  htn_yes  dm_yes  cad_yes  \\\n",
       "0  0.044444  ...  0.500000         0.0        1.0      1.0     1.0      0.0   \n",
       "1  0.044444  ...  0.333333         0.0        1.0      0.0     0.0      0.0   \n",
       "2  0.044444  ...  0.333333         1.0        1.0      0.0     1.0      0.0   \n",
       "\n",
       "   appet_poor  pe_yes  ane_yes  classification_notckd  \n",
       "0         0.0     0.0      0.0                    0.0  \n",
       "1         0.0     0.0      0.0                    0.0  \n",
       "2         1.0     0.0      1.0                    0.0  \n",
       "\n",
       "[3 rows x 23 columns]"
      ]
     },
     "execution_count": 41,
     "metadata": {},
     "output_type": "execute_result"
    }
   ],
   "source": [
    "normalized_ckd.head(3)"
   ]
  },
  {
   "cell_type": "code",
   "execution_count": 42,
   "id": "97ba34ec-1895-4e70-9088-73a896677a9f",
   "metadata": {},
   "outputs": [],
   "source": [
    "normalized_ckd.rename(columns={'classification_notckd': 'classification'}, inplace=True)"
   ]
  },
  {
   "cell_type": "markdown",
   "id": "c5b6e650-1df6-434c-8216-36d000fe2c46",
   "metadata": {},
   "source": [
    "Remove the ground-truth column and store its values aside"
   ]
  },
  {
   "cell_type": "code",
   "execution_count": 43,
   "id": "1bdf033e-8979-43ed-b583-aae9162722b0",
   "metadata": {},
   "outputs": [],
   "source": [
    "classification_values = normalized_ckd['classification']\n",
    "ckd = normalized_ckd.drop(columns=['classification'])"
   ]
  },
  {
   "cell_type": "markdown",
   "id": "57b76f85-e4a3-426d-ab1c-06d8332985a1",
   "metadata": {},
   "source": [
    "We're gonna try SVM algorithm (support vector machines) with different kernels and see what gives the best performance"
   ]
  },
  {
   "cell_type": "code",
   "execution_count": 60,
   "id": "ffb87e98-c3f2-4f2a-9543-920b8d002220",
   "metadata": {},
   "outputs": [
    {
     "name": "stdout",
     "output_type": "stream",
     "text": [
      "Kernel: linear, Parameters: {'kernel': 'linear', 'C': 1.0}\n",
      "  Class 0 - Average Precision: 1.00, Average Recall: 0.95\n",
      "  Class 1 - Average Precision: 0.92, Average Recall: 1.00\n",
      "--------------------------------------------------\n",
      "Kernel: poly, Parameters: {'kernel': 'poly', 'C': 1.0, 'degree': 3, 'gamma': 'scale', 'coef0': 1}\n",
      "  Class 0 - Average Precision: 0.99, Average Recall: 0.98\n",
      "  Class 1 - Average Precision: 0.97, Average Recall: 0.98\n",
      "--------------------------------------------------\n",
      "Kernel: poly, Parameters: {'kernel': 'poly', 'C': 1.0, 'degree': 5, 'gamma': 'scale', 'coef0': 1}\n",
      "  Class 0 - Average Precision: 0.99, Average Recall: 0.98\n",
      "  Class 1 - Average Precision: 0.97, Average Recall: 0.99\n",
      "--------------------------------------------------\n",
      "Kernel: rbf, Parameters: {'kernel': 'rbf', 'C': 1.0, 'gamma': 0.5}\n",
      "  Class 0 - Average Precision: 1.00, Average Recall: 0.95\n",
      "  Class 1 - Average Precision: 0.93, Average Recall: 1.00\n",
      "--------------------------------------------------\n",
      "Kernel: rbf, Parameters: {'kernel': 'rbf', 'C': 1.0, 'gamma': 1.0}\n",
      "  Class 0 - Average Precision: 1.00, Average Recall: 0.98\n",
      "  Class 1 - Average Precision: 0.96, Average Recall: 1.00\n",
      "--------------------------------------------------\n",
      "Kernel: sigmoid, Parameters: {'kernel': 'sigmoid', 'C': 1.0, 'gamma': 0.5, 'coef0': 0.0}\n",
      "  Class 0 - Average Precision: 0.95, Average Recall: 0.72\n",
      "  Class 1 - Average Precision: 0.67, Average Recall: 0.94\n",
      "--------------------------------------------------\n",
      "Kernel: sigmoid, Parameters: {'kernel': 'sigmoid', 'C': 1.0, 'gamma': 1.0, 'coef0': 1.0}\n",
      "  Class 0 - Average Precision: 0.62, Average Recall: 1.00\n",
      "  Class 1 - Average Precision: 0.00, Average Recall: 0.00\n",
      "--------------------------------------------------\n"
     ]
    }
   ],
   "source": [
    "X = ckd\n",
    "Y = classification_values\n",
    "\n",
    "\n",
    "kernel_params = [\n",
    "    {'kernel': 'linear', 'C': 1.0},\n",
    "    {'kernel': 'poly', 'C': 1.0, 'degree': 3, 'gamma': 'scale', 'coef0': 1},\n",
    "    {'kernel': 'poly', 'C': 1.0, 'degree': 5, 'gamma': 'scale', 'coef0': 1},\n",
    "    {'kernel': 'rbf', 'C': 1.0, 'gamma': 0.5},\n",
    "    {'kernel': 'rbf', 'C': 1.0, 'gamma': 1.0},\n",
    "    {'kernel': 'sigmoid', 'C': 1.0, 'gamma': 0.5, 'coef0': 0.0},\n",
    "    {'kernel': 'sigmoid', 'C': 1.0, 'gamma': 1.0, 'coef0': 1.0},\n",
    "]\n",
    "\n",
    "\n",
    "kf = KFold(n_splits=10, shuffle=True, random_state=42)\n",
    "\n",
    "\n",
    "for params in kernel_params:\n",
    "    clf = svm.SVC(**params)  \n",
    "    precision_per_class = np.zeros(2)  \n",
    "    recall_per_class = np.zeros(2)\n",
    "\n",
    "    for train_index, test_index in kf.split(X):\n",
    "        X_train, X_test = X.iloc[train_index], X.iloc[test_index]\n",
    "        y_train, y_test = Y.iloc[train_index], Y.iloc[test_index]\n",
    "\n",
    "        clf.fit(X_train, y_train)  #fitting the model\n",
    "        y_pred = clf.predict(X_test)  #predictions\n",
    "\n",
    "        # Calculate precision and recall for each class\n",
    "        for class_label in range(2):  \n",
    "            precision_per_class[class_label] += precision_score(y_test, y_pred, labels=[class_label], average='micro')\n",
    "            recall_per_class[class_label] += recall_score(y_test, y_pred, labels=[class_label], average='micro')\n",
    "\n",
    "    # Average precision and recall across all folds\n",
    "    average_precision = precision_per_class / kf.get_n_splits()\n",
    "    average_recall = recall_per_class / kf.get_n_splits()\n",
    "\n",
    "    # Print the results\n",
    "    print(f\"Kernel: {params['kernel']}, Parameters: {params}\")\n",
    "    for class_label in range(2):\n",
    "        print(f\"  Class {class_label} - Average Precision: {average_precision[class_label]:.2f}, Average Recall: {average_recall[class_label]:.2f}\")\n",
    "    print(\"--------------------------------------------------\")"
   ]
  },
  {
   "cell_type": "markdown",
   "id": "649317cb-289b-4add-bd6a-b1a80e70d906",
   "metadata": {},
   "source": [
    "### Best results appear to be given with kernel poly 5 degrees"
   ]
  }
 ],
 "metadata": {
  "kernelspec": {
   "display_name": "Python 3 (ipykernel)",
   "language": "python",
   "name": "python3"
  },
  "language_info": {
   "codemirror_mode": {
    "name": "ipython",
    "version": 3
   },
   "file_extension": ".py",
   "mimetype": "text/x-python",
   "name": "python",
   "nbconvert_exporter": "python",
   "pygments_lexer": "ipython3",
   "version": "3.11.7"
  }
 },
 "nbformat": 4,
 "nbformat_minor": 5
}
